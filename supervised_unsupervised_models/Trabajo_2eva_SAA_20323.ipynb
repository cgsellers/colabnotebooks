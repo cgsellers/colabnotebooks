{
  "nbformat": 4,
  "nbformat_minor": 0,
  "metadata": {
    "colab": {
      "provenance": [],
      "toc_visible": true
    },
    "kernelspec": {
      "name": "python3",
      "display_name": "Python 3"
    },
    "language_info": {
      "name": "python"
    }
  },
  "cells": [
    {
      "cell_type": "markdown",
      "source": [
        "#1.- Busca en internet un csv de regresión y aplícale los algoritmos Random Forest, XGBoost, SVM kernel RBF, SVM kernel Linear y SVM Polinómico. Para cada uno de ellos tienes que obtener la matriz de confusión, el error cuadrático medio y el R2 score."
      ],
      "metadata": {
        "id": "-sQupaPcY_VS"
      }
    },
    {
      "cell_type": "code",
      "execution_count": 1,
      "metadata": {
        "id": "qW7hrVkeY5og"
      },
      "outputs": [],
      "source": [
        "import pandas as pd\n",
        "import numpy as np \n",
        "from pandas.plotting import scatter_matrix\n",
        "import seaborn as sns\n",
        "import matplotlib.pyplot as plt\n",
        "from sklearn.preprocessing import StandardScaler\n",
        "from sklearn.model_selection import train_test_split\n",
        "from sklearn.model_selection import GridSearchCV\n",
        "from sklearn.metrics import confusion_matrix, accuracy_score, recall_score, precision_score\n",
        "from sklearn.metrics import r2_score\n",
        "from sklearn.metrics import mean_squared_error"
      ]
    },
    {
      "cell_type": "markdown",
      "source": [
        "Para los ejercicios de regresión voy a utilizar un csv que debería ser útil y consta de 8 columnas y 50.000 filas.\n",
        "\n",
        "Con 50.000 filas los modelos SVR linear y polinómico tardan 50 minutos y 3h 40min en entrenarse, además de no tener resultados muy buenos.\n",
        "Para compbrobar que funciona si quieres reduce en número de filas en la segunda línea de código.\n",
        "Voy a adjuntar capturas con los resultados de los SVR con 50.000 filas por si los quieres comparar con el resto, aunque son mucho peores, teniendo un MSE de 1-1.5 cuando el resto ronda el 0.1-0.2 y un R2 de 0.3-0.03 cuando el resto roza el 0.9"
      ],
      "metadata": {
        "id": "b10yWmcIbLik"
      }
    },
    {
      "cell_type": "code",
      "source": [
        "df=pd.read_csv(\"APY.csv\")\n",
        "df=df[:50000]\n",
        "#Reemplazar las toneladas de producción para que no cuenten por nulas\n",
        "df[\"Production\"]=df[\"Production\"].fillna(\"0.0001\")\n",
        "temporadas=df[\"Season\"].unique()"
      ],
      "metadata": {
        "id": "w7SgvmQNaEwh"
      },
      "execution_count": 2,
      "outputs": []
    },
    {
      "cell_type": "markdown",
      "source": [
        "Lo primero es pasar todas las columnas objeto a categóricas"
      ],
      "metadata": {
        "id": "MFbvdoG6bHTw"
      }
    },
    {
      "cell_type": "code",
      "source": [
        "obj_cols = df.select_dtypes(include=\"object\").columns\n",
        "for col in obj_cols:\n",
        "  df[col] = pd.Categorical(df[col])\n",
        "\n",
        "cat_cols = df.select_dtypes(include=\"category\").columns\n",
        "for col in cat_cols:\n",
        "  df[col] = df[col].cat.codes\n",
        "\n",
        "df"
      ],
      "metadata": {
        "id": "VJ0YjSkfaO8M",
        "colab": {
          "base_uri": "https://localhost:8080/",
          "height": 423
        },
        "outputId": "61a6d05c-f0a2-4772-817a-fbfcff6c36c2"
      },
      "execution_count": 3,
      "outputs": [
        {
          "output_type": "execute_result",
          "data": {
            "text/plain": [
              "       State  District   Crop  Crop_Year  Season   Area   Production  Yield\n",
              "0          0         93     0       2007       1  2439.6        3165   1.40\n",
              "1          0         93     0       2007       2  1626.4        2224   1.40\n",
              "2          0         93     0       2008       0  4147.0        2894   0.74\n",
              "3          0         93     0       2008       3  4147.0        2562   0.64\n",
              "4          0         93     0       2009       0  4153.0        2939   0.75\n",
              "...      ...        ...   ...        ...     ...     ...         ...    ...\n",
              "49995      4        112    24       2003       2  2468.0        2423   1.01\n",
              "49996      4        112    24       2004       2  4202.0        2026   0.49\n",
              "49997      4        112    24       2005       2  4678.0        3759   0.91\n",
              "49998      4        112    24       2006       2  3208.0        3152   1.06\n",
              "49999      4        112    24       2007       2  4163.0        3275   0.86\n",
              "\n",
              "[50000 rows x 8 columns]"
            ],
            "text/html": [
              "\n",
              "  <div id=\"df-bb933212-6b8d-424b-b432-629331c8a3ed\">\n",
              "    <div class=\"colab-df-container\">\n",
              "      <div>\n",
              "<style scoped>\n",
              "    .dataframe tbody tr th:only-of-type {\n",
              "        vertical-align: middle;\n",
              "    }\n",
              "\n",
              "    .dataframe tbody tr th {\n",
              "        vertical-align: top;\n",
              "    }\n",
              "\n",
              "    .dataframe thead th {\n",
              "        text-align: right;\n",
              "    }\n",
              "</style>\n",
              "<table border=\"1\" class=\"dataframe\">\n",
              "  <thead>\n",
              "    <tr style=\"text-align: right;\">\n",
              "      <th></th>\n",
              "      <th>State</th>\n",
              "      <th>District</th>\n",
              "      <th>Crop</th>\n",
              "      <th>Crop_Year</th>\n",
              "      <th>Season</th>\n",
              "      <th>Area</th>\n",
              "      <th>Production</th>\n",
              "      <th>Yield</th>\n",
              "    </tr>\n",
              "  </thead>\n",
              "  <tbody>\n",
              "    <tr>\n",
              "      <th>0</th>\n",
              "      <td>0</td>\n",
              "      <td>93</td>\n",
              "      <td>0</td>\n",
              "      <td>2007</td>\n",
              "      <td>1</td>\n",
              "      <td>2439.6</td>\n",
              "      <td>3165</td>\n",
              "      <td>1.40</td>\n",
              "    </tr>\n",
              "    <tr>\n",
              "      <th>1</th>\n",
              "      <td>0</td>\n",
              "      <td>93</td>\n",
              "      <td>0</td>\n",
              "      <td>2007</td>\n",
              "      <td>2</td>\n",
              "      <td>1626.4</td>\n",
              "      <td>2224</td>\n",
              "      <td>1.40</td>\n",
              "    </tr>\n",
              "    <tr>\n",
              "      <th>2</th>\n",
              "      <td>0</td>\n",
              "      <td>93</td>\n",
              "      <td>0</td>\n",
              "      <td>2008</td>\n",
              "      <td>0</td>\n",
              "      <td>4147.0</td>\n",
              "      <td>2894</td>\n",
              "      <td>0.74</td>\n",
              "    </tr>\n",
              "    <tr>\n",
              "      <th>3</th>\n",
              "      <td>0</td>\n",
              "      <td>93</td>\n",
              "      <td>0</td>\n",
              "      <td>2008</td>\n",
              "      <td>3</td>\n",
              "      <td>4147.0</td>\n",
              "      <td>2562</td>\n",
              "      <td>0.64</td>\n",
              "    </tr>\n",
              "    <tr>\n",
              "      <th>4</th>\n",
              "      <td>0</td>\n",
              "      <td>93</td>\n",
              "      <td>0</td>\n",
              "      <td>2009</td>\n",
              "      <td>0</td>\n",
              "      <td>4153.0</td>\n",
              "      <td>2939</td>\n",
              "      <td>0.75</td>\n",
              "    </tr>\n",
              "    <tr>\n",
              "      <th>...</th>\n",
              "      <td>...</td>\n",
              "      <td>...</td>\n",
              "      <td>...</td>\n",
              "      <td>...</td>\n",
              "      <td>...</td>\n",
              "      <td>...</td>\n",
              "      <td>...</td>\n",
              "      <td>...</td>\n",
              "    </tr>\n",
              "    <tr>\n",
              "      <th>49995</th>\n",
              "      <td>4</td>\n",
              "      <td>112</td>\n",
              "      <td>24</td>\n",
              "      <td>2003</td>\n",
              "      <td>2</td>\n",
              "      <td>2468.0</td>\n",
              "      <td>2423</td>\n",
              "      <td>1.01</td>\n",
              "    </tr>\n",
              "    <tr>\n",
              "      <th>49996</th>\n",
              "      <td>4</td>\n",
              "      <td>112</td>\n",
              "      <td>24</td>\n",
              "      <td>2004</td>\n",
              "      <td>2</td>\n",
              "      <td>4202.0</td>\n",
              "      <td>2026</td>\n",
              "      <td>0.49</td>\n",
              "    </tr>\n",
              "    <tr>\n",
              "      <th>49997</th>\n",
              "      <td>4</td>\n",
              "      <td>112</td>\n",
              "      <td>24</td>\n",
              "      <td>2005</td>\n",
              "      <td>2</td>\n",
              "      <td>4678.0</td>\n",
              "      <td>3759</td>\n",
              "      <td>0.91</td>\n",
              "    </tr>\n",
              "    <tr>\n",
              "      <th>49998</th>\n",
              "      <td>4</td>\n",
              "      <td>112</td>\n",
              "      <td>24</td>\n",
              "      <td>2006</td>\n",
              "      <td>2</td>\n",
              "      <td>3208.0</td>\n",
              "      <td>3152</td>\n",
              "      <td>1.06</td>\n",
              "    </tr>\n",
              "    <tr>\n",
              "      <th>49999</th>\n",
              "      <td>4</td>\n",
              "      <td>112</td>\n",
              "      <td>24</td>\n",
              "      <td>2007</td>\n",
              "      <td>2</td>\n",
              "      <td>4163.0</td>\n",
              "      <td>3275</td>\n",
              "      <td>0.86</td>\n",
              "    </tr>\n",
              "  </tbody>\n",
              "</table>\n",
              "<p>50000 rows × 8 columns</p>\n",
              "</div>\n",
              "      <button class=\"colab-df-convert\" onclick=\"convertToInteractive('df-bb933212-6b8d-424b-b432-629331c8a3ed')\"\n",
              "              title=\"Convert this dataframe to an interactive table.\"\n",
              "              style=\"display:none;\">\n",
              "        \n",
              "  <svg xmlns=\"http://www.w3.org/2000/svg\" height=\"24px\"viewBox=\"0 0 24 24\"\n",
              "       width=\"24px\">\n",
              "    <path d=\"M0 0h24v24H0V0z\" fill=\"none\"/>\n",
              "    <path d=\"M18.56 5.44l.94 2.06.94-2.06 2.06-.94-2.06-.94-.94-2.06-.94 2.06-2.06.94zm-11 1L8.5 8.5l.94-2.06 2.06-.94-2.06-.94L8.5 2.5l-.94 2.06-2.06.94zm10 10l.94 2.06.94-2.06 2.06-.94-2.06-.94-.94-2.06-.94 2.06-2.06.94z\"/><path d=\"M17.41 7.96l-1.37-1.37c-.4-.4-.92-.59-1.43-.59-.52 0-1.04.2-1.43.59L10.3 9.45l-7.72 7.72c-.78.78-.78 2.05 0 2.83L4 21.41c.39.39.9.59 1.41.59.51 0 1.02-.2 1.41-.59l7.78-7.78 2.81-2.81c.8-.78.8-2.07 0-2.86zM5.41 20L4 18.59l7.72-7.72 1.47 1.35L5.41 20z\"/>\n",
              "  </svg>\n",
              "      </button>\n",
              "      \n",
              "  <style>\n",
              "    .colab-df-container {\n",
              "      display:flex;\n",
              "      flex-wrap:wrap;\n",
              "      gap: 12px;\n",
              "    }\n",
              "\n",
              "    .colab-df-convert {\n",
              "      background-color: #E8F0FE;\n",
              "      border: none;\n",
              "      border-radius: 50%;\n",
              "      cursor: pointer;\n",
              "      display: none;\n",
              "      fill: #1967D2;\n",
              "      height: 32px;\n",
              "      padding: 0 0 0 0;\n",
              "      width: 32px;\n",
              "    }\n",
              "\n",
              "    .colab-df-convert:hover {\n",
              "      background-color: #E2EBFA;\n",
              "      box-shadow: 0px 1px 2px rgba(60, 64, 67, 0.3), 0px 1px 3px 1px rgba(60, 64, 67, 0.15);\n",
              "      fill: #174EA6;\n",
              "    }\n",
              "\n",
              "    [theme=dark] .colab-df-convert {\n",
              "      background-color: #3B4455;\n",
              "      fill: #D2E3FC;\n",
              "    }\n",
              "\n",
              "    [theme=dark] .colab-df-convert:hover {\n",
              "      background-color: #434B5C;\n",
              "      box-shadow: 0px 1px 3px 1px rgba(0, 0, 0, 0.15);\n",
              "      filter: drop-shadow(0px 1px 2px rgba(0, 0, 0, 0.3));\n",
              "      fill: #FFFFFF;\n",
              "    }\n",
              "  </style>\n",
              "\n",
              "      <script>\n",
              "        const buttonEl =\n",
              "          document.querySelector('#df-bb933212-6b8d-424b-b432-629331c8a3ed button.colab-df-convert');\n",
              "        buttonEl.style.display =\n",
              "          google.colab.kernel.accessAllowed ? 'block' : 'none';\n",
              "\n",
              "        async function convertToInteractive(key) {\n",
              "          const element = document.querySelector('#df-bb933212-6b8d-424b-b432-629331c8a3ed');\n",
              "          const dataTable =\n",
              "            await google.colab.kernel.invokeFunction('convertToInteractive',\n",
              "                                                     [key], {});\n",
              "          if (!dataTable) return;\n",
              "\n",
              "          const docLinkHtml = 'Like what you see? Visit the ' +\n",
              "            '<a target=\"_blank\" href=https://colab.research.google.com/notebooks/data_table.ipynb>data table notebook</a>'\n",
              "            + ' to learn more about interactive tables.';\n",
              "          element.innerHTML = '';\n",
              "          dataTable['output_type'] = 'display_data';\n",
              "          await google.colab.output.renderOutput(dataTable, element);\n",
              "          const docLink = document.createElement('div');\n",
              "          docLink.innerHTML = docLinkHtml;\n",
              "          element.appendChild(docLink);\n",
              "        }\n",
              "      </script>\n",
              "    </div>\n",
              "  </div>\n",
              "  "
            ]
          },
          "metadata": {},
          "execution_count": 3
        }
      ]
    },
    {
      "cell_type": "markdown",
      "source": [
        "Como columna target (Y) voy a elegir \"Season\" ya que me parece que las predicciones más útiles van a ser sobre esa columna, "
      ],
      "metadata": {
        "id": "YNcJbw3Qbo1a"
      }
    },
    {
      "cell_type": "code",
      "source": [
        "Y=df[\"Season\"]\n",
        "X=df.drop(columns=\"Season\")\n",
        "temporadas_codes=df[\"Season\"].unique()\n",
        "print(f\"Temporadas:{temporadas}\\nCódigos:{temporadas_codes}\")"
      ],
      "metadata": {
        "id": "iGvdklozbBir",
        "colab": {
          "base_uri": "https://localhost:8080/"
        },
        "outputId": "3d2b894b-6e25-4ed3-8fd0-3ba53735b0c0"
      },
      "execution_count": 4,
      "outputs": [
        {
          "output_type": "stream",
          "name": "stdout",
          "text": [
            "Temporadas:['Kharif     ' 'Rabi       ' 'Autumn     ' 'Summer     ' 'Whole Year '\n",
            " 'Winter     ']\n",
            "Códigos:[1 2 0 3 4 5]\n"
          ]
        }
      ]
    },
    {
      "cell_type": "markdown",
      "source": [
        "Ahora voy a normalizar X "
      ],
      "metadata": {
        "id": "hXJUlsOWcNzs"
      }
    },
    {
      "cell_type": "code",
      "source": [
        "scaler=StandardScaler()\n",
        "X1=scaler.fit_transform(X)"
      ],
      "metadata": {
        "id": "SLEF9WE_cKPr"
      },
      "execution_count": 5,
      "outputs": []
    },
    {
      "cell_type": "markdown",
      "source": [
        "Dividir en train y test"
      ],
      "metadata": {
        "id": "ZbKElG30c3h7"
      }
    },
    {
      "cell_type": "code",
      "source": [
        "X_train,X_test,Y_train,Y_test=train_test_split(X1,Y, test_size=0.2,random_state=0)"
      ],
      "metadata": {
        "id": "7pay_-11cSEi"
      },
      "execution_count": 6,
      "outputs": []
    },
    {
      "cell_type": "markdown",
      "source": [
        "Definir el umbral para los tests"
      ],
      "metadata": {
        "id": "uAhWXKN4m3uS"
      }
    },
    {
      "cell_type": "code",
      "source": [
        "umbral=0.6"
      ],
      "metadata": {
        "id": "5ZW2J4czm2pH"
      },
      "execution_count": 7,
      "outputs": []
    },
    {
      "cell_type": "markdown",
      "source": [
        "# Random Forest"
      ],
      "metadata": {
        "id": "3YHBEK8SdS0P"
      }
    },
    {
      "cell_type": "code",
      "source": [
        "from numpy import mean, std\n",
        "from sklearn.ensemble import RandomForestRegressor\n",
        "from sklearn.datasets import make_regression\n",
        "from sklearn.model_selection import cross_val_score, RepeatedKFold"
      ],
      "metadata": {
        "id": "3aiCfitvddwW"
      },
      "execution_count": 8,
      "outputs": []
    },
    {
      "cell_type": "code",
      "source": [
        "RandomForest = RandomForestRegressor()\n",
        "RandomForest.fit(X_train, Y_train)"
      ],
      "metadata": {
        "id": "PTd2_pXhdk7L",
        "colab": {
          "base_uri": "https://localhost:8080/",
          "height": 74
        },
        "outputId": "eeb87170-48fb-4867-97ff-678e869095c9"
      },
      "execution_count": 9,
      "outputs": [
        {
          "output_type": "execute_result",
          "data": {
            "text/plain": [
              "RandomForestRegressor()"
            ],
            "text/html": [
              "<style>#sk-container-id-1 {color: black;background-color: white;}#sk-container-id-1 pre{padding: 0;}#sk-container-id-1 div.sk-toggleable {background-color: white;}#sk-container-id-1 label.sk-toggleable__label {cursor: pointer;display: block;width: 100%;margin-bottom: 0;padding: 0.3em;box-sizing: border-box;text-align: center;}#sk-container-id-1 label.sk-toggleable__label-arrow:before {content: \"▸\";float: left;margin-right: 0.25em;color: #696969;}#sk-container-id-1 label.sk-toggleable__label-arrow:hover:before {color: black;}#sk-container-id-1 div.sk-estimator:hover label.sk-toggleable__label-arrow:before {color: black;}#sk-container-id-1 div.sk-toggleable__content {max-height: 0;max-width: 0;overflow: hidden;text-align: left;background-color: #f0f8ff;}#sk-container-id-1 div.sk-toggleable__content pre {margin: 0.2em;color: black;border-radius: 0.25em;background-color: #f0f8ff;}#sk-container-id-1 input.sk-toggleable__control:checked~div.sk-toggleable__content {max-height: 200px;max-width: 100%;overflow: auto;}#sk-container-id-1 input.sk-toggleable__control:checked~label.sk-toggleable__label-arrow:before {content: \"▾\";}#sk-container-id-1 div.sk-estimator input.sk-toggleable__control:checked~label.sk-toggleable__label {background-color: #d4ebff;}#sk-container-id-1 div.sk-label input.sk-toggleable__control:checked~label.sk-toggleable__label {background-color: #d4ebff;}#sk-container-id-1 input.sk-hidden--visually {border: 0;clip: rect(1px 1px 1px 1px);clip: rect(1px, 1px, 1px, 1px);height: 1px;margin: -1px;overflow: hidden;padding: 0;position: absolute;width: 1px;}#sk-container-id-1 div.sk-estimator {font-family: monospace;background-color: #f0f8ff;border: 1px dotted black;border-radius: 0.25em;box-sizing: border-box;margin-bottom: 0.5em;}#sk-container-id-1 div.sk-estimator:hover {background-color: #d4ebff;}#sk-container-id-1 div.sk-parallel-item::after {content: \"\";width: 100%;border-bottom: 1px solid gray;flex-grow: 1;}#sk-container-id-1 div.sk-label:hover label.sk-toggleable__label {background-color: #d4ebff;}#sk-container-id-1 div.sk-serial::before {content: \"\";position: absolute;border-left: 1px solid gray;box-sizing: border-box;top: 0;bottom: 0;left: 50%;z-index: 0;}#sk-container-id-1 div.sk-serial {display: flex;flex-direction: column;align-items: center;background-color: white;padding-right: 0.2em;padding-left: 0.2em;position: relative;}#sk-container-id-1 div.sk-item {position: relative;z-index: 1;}#sk-container-id-1 div.sk-parallel {display: flex;align-items: stretch;justify-content: center;background-color: white;position: relative;}#sk-container-id-1 div.sk-item::before, #sk-container-id-1 div.sk-parallel-item::before {content: \"\";position: absolute;border-left: 1px solid gray;box-sizing: border-box;top: 0;bottom: 0;left: 50%;z-index: -1;}#sk-container-id-1 div.sk-parallel-item {display: flex;flex-direction: column;z-index: 1;position: relative;background-color: white;}#sk-container-id-1 div.sk-parallel-item:first-child::after {align-self: flex-end;width: 50%;}#sk-container-id-1 div.sk-parallel-item:last-child::after {align-self: flex-start;width: 50%;}#sk-container-id-1 div.sk-parallel-item:only-child::after {width: 0;}#sk-container-id-1 div.sk-dashed-wrapped {border: 1px dashed gray;margin: 0 0.4em 0.5em 0.4em;box-sizing: border-box;padding-bottom: 0.4em;background-color: white;}#sk-container-id-1 div.sk-label label {font-family: monospace;font-weight: bold;display: inline-block;line-height: 1.2em;}#sk-container-id-1 div.sk-label-container {text-align: center;}#sk-container-id-1 div.sk-container {/* jupyter's `normalize.less` sets `[hidden] { display: none; }` but bootstrap.min.css set `[hidden] { display: none !important; }` so we also need the `!important` here to be able to override the default hidden behavior on the sphinx rendered scikit-learn.org. See: https://github.com/scikit-learn/scikit-learn/issues/21755 */display: inline-block !important;position: relative;}#sk-container-id-1 div.sk-text-repr-fallback {display: none;}</style><div id=\"sk-container-id-1\" class=\"sk-top-container\"><div class=\"sk-text-repr-fallback\"><pre>RandomForestRegressor()</pre><b>In a Jupyter environment, please rerun this cell to show the HTML representation or trust the notebook. <br />On GitHub, the HTML representation is unable to render, please try loading this page with nbviewer.org.</b></div><div class=\"sk-container\" hidden><div class=\"sk-item\"><div class=\"sk-estimator sk-toggleable\"><input class=\"sk-toggleable__control sk-hidden--visually\" id=\"sk-estimator-id-1\" type=\"checkbox\" checked><label for=\"sk-estimator-id-1\" class=\"sk-toggleable__label sk-toggleable__label-arrow\">RandomForestRegressor</label><div class=\"sk-toggleable__content\"><pre>RandomForestRegressor()</pre></div></div></div></div></div>"
            ]
          },
          "metadata": {},
          "execution_count": 9
        }
      ]
    },
    {
      "cell_type": "code",
      "source": [
        "rf_y_test_pred = RandomForest.predict(X_test)\n",
        "\n",
        "\n",
        "rf_y_test_umbralizada = 1 * (rf_y_test_pred[:] > umbral)"
      ],
      "metadata": {
        "id": "Zzaed9oYMPzE"
      },
      "execution_count": 10,
      "outputs": []
    },
    {
      "cell_type": "markdown",
      "source": [
        "Matriz de confusión"
      ],
      "metadata": {
        "id": "j9Gv6yfumUL8"
      }
    },
    {
      "cell_type": "code",
      "source": [
        "print(u\"Matriz de confusión\\n\", confusion_matrix(Y_test,rf_y_test_umbralizada))\n"
      ],
      "metadata": {
        "id": "EnLBx4ToMgXA",
        "colab": {
          "base_uri": "https://localhost:8080/"
        },
        "outputId": "f0aac7a2-a585-46c1-e016-3bc721490d02"
      },
      "execution_count": 11,
      "outputs": [
        {
          "output_type": "stream",
          "name": "stdout",
          "text": [
            "Matriz de confusión\n",
            " [[ 119  139    0    0    0    0]\n",
            " [   1 3341    0    0    0    0]\n",
            " [   3 3431    0    0    0    0]\n",
            " [   5  302    0    0    0    0]\n",
            " [   0 2544    0    0    0    0]\n",
            " [   0  115    0    0    0    0]]\n"
          ]
        }
      ]
    },
    {
      "cell_type": "markdown",
      "source": [
        "MSE"
      ],
      "metadata": {
        "id": "wgK3mJKiLY7T"
      }
    },
    {
      "cell_type": "code",
      "source": [
        "print(F\"Error cuadrático medio: {mean_squared_error(Y_test, rf_y_test_pred)}\")"
      ],
      "metadata": {
        "id": "tAHsFsLmLbUD",
        "colab": {
          "base_uri": "https://localhost:8080/"
        },
        "outputId": "15b252f5-ac22-4277-c536-80a4417c5509"
      },
      "execution_count": 13,
      "outputs": [
        {
          "output_type": "stream",
          "name": "stdout",
          "text": [
            "Error cuadrático medio: 0.11242002287003652\n"
          ]
        }
      ]
    },
    {
      "cell_type": "markdown",
      "source": [
        "R2"
      ],
      "metadata": {
        "id": "7IfSYu5ipIMS"
      }
    },
    {
      "cell_type": "code",
      "source": [
        "rf_train_pred = RandomForest.predict(X_train)\n",
        "rf_test_pred = RandomForest.predict(X_test)\n",
        "print('La R^2 en los datos de train es: {}'.format(np.round(r2_score(Y_train, rf_train_pred),4)))\n",
        "print('La R^2 en los datos de test es: {}'.format(np.round(r2_score(Y_test, rf_test_pred),4)))"
      ],
      "metadata": {
        "id": "cpazHPqXpJUm",
        "colab": {
          "base_uri": "https://localhost:8080/"
        },
        "outputId": "f1504072-0830-422f-dfc7-9de4f3f9d465"
      },
      "execution_count": 14,
      "outputs": [
        {
          "output_type": "stream",
          "name": "stdout",
          "text": [
            "La R^2 en los datos de train es: 0.9893\n",
            "La R^2 en los datos de test es: 0.9276\n"
          ]
        }
      ]
    },
    {
      "cell_type": "markdown",
      "source": [
        "# XGBoost"
      ],
      "metadata": {
        "id": "4k-hdpxbp6pE"
      }
    },
    {
      "cell_type": "code",
      "source": [
        "import xgboost "
      ],
      "metadata": {
        "id": "MRl1Sicyp-U8"
      },
      "execution_count": 15,
      "outputs": []
    },
    {
      "cell_type": "code",
      "source": [
        "xgb = xgboost.XGBRegressor()\n",
        "params = {\"eta\": [0.3, 0.5], \"lambda\":[0.5, 1.0], \"max_depth\": [3, 7]}\n",
        "xgb_opt = GridSearchCV(xgb, params, cv=3)\n",
        "xgb_opt.fit(X_train, Y_train)"
      ],
      "metadata": {
        "id": "YU0DHlfXqFV0",
        "colab": {
          "base_uri": "https://localhost:8080/",
          "height": 116
        },
        "outputId": "d8b334b0-0708-4790-b205-fc7cf9c66352"
      },
      "execution_count": 16,
      "outputs": [
        {
          "output_type": "execute_result",
          "data": {
            "text/plain": [
              "GridSearchCV(cv=3,\n",
              "             estimator=XGBRegressor(base_score=None, booster=None,\n",
              "                                    callbacks=None, colsample_bylevel=None,\n",
              "                                    colsample_bynode=None,\n",
              "                                    colsample_bytree=None,\n",
              "                                    early_stopping_rounds=None,\n",
              "                                    enable_categorical=False, eval_metric=None,\n",
              "                                    feature_types=None, gamma=None, gpu_id=None,\n",
              "                                    grow_policy=None, importance_type=None,\n",
              "                                    interaction_constraints=None,\n",
              "                                    learning_rate=None, max_bin=None,\n",
              "                                    max_cat_threshold=None,\n",
              "                                    max_cat_to_onehot=None, max_delta_step=None,\n",
              "                                    max_depth=None, max_leaves=None,\n",
              "                                    min_child_weight=None, missing=nan,\n",
              "                                    monotone_constraints=None, n_estimators=100,\n",
              "                                    n_jobs=None, num_parallel_tree=None,\n",
              "                                    predictor=None, random_state=None, ...),\n",
              "             param_grid={'eta': [0.3, 0.5], 'lambda': [0.5, 1.0],\n",
              "                         'max_depth': [3, 7]})"
            ],
            "text/html": [
              "<style>#sk-container-id-2 {color: black;background-color: white;}#sk-container-id-2 pre{padding: 0;}#sk-container-id-2 div.sk-toggleable {background-color: white;}#sk-container-id-2 label.sk-toggleable__label {cursor: pointer;display: block;width: 100%;margin-bottom: 0;padding: 0.3em;box-sizing: border-box;text-align: center;}#sk-container-id-2 label.sk-toggleable__label-arrow:before {content: \"▸\";float: left;margin-right: 0.25em;color: #696969;}#sk-container-id-2 label.sk-toggleable__label-arrow:hover:before {color: black;}#sk-container-id-2 div.sk-estimator:hover label.sk-toggleable__label-arrow:before {color: black;}#sk-container-id-2 div.sk-toggleable__content {max-height: 0;max-width: 0;overflow: hidden;text-align: left;background-color: #f0f8ff;}#sk-container-id-2 div.sk-toggleable__content pre {margin: 0.2em;color: black;border-radius: 0.25em;background-color: #f0f8ff;}#sk-container-id-2 input.sk-toggleable__control:checked~div.sk-toggleable__content {max-height: 200px;max-width: 100%;overflow: auto;}#sk-container-id-2 input.sk-toggleable__control:checked~label.sk-toggleable__label-arrow:before {content: \"▾\";}#sk-container-id-2 div.sk-estimator input.sk-toggleable__control:checked~label.sk-toggleable__label {background-color: #d4ebff;}#sk-container-id-2 div.sk-label input.sk-toggleable__control:checked~label.sk-toggleable__label {background-color: #d4ebff;}#sk-container-id-2 input.sk-hidden--visually {border: 0;clip: rect(1px 1px 1px 1px);clip: rect(1px, 1px, 1px, 1px);height: 1px;margin: -1px;overflow: hidden;padding: 0;position: absolute;width: 1px;}#sk-container-id-2 div.sk-estimator {font-family: monospace;background-color: #f0f8ff;border: 1px dotted black;border-radius: 0.25em;box-sizing: border-box;margin-bottom: 0.5em;}#sk-container-id-2 div.sk-estimator:hover {background-color: #d4ebff;}#sk-container-id-2 div.sk-parallel-item::after {content: \"\";width: 100%;border-bottom: 1px solid gray;flex-grow: 1;}#sk-container-id-2 div.sk-label:hover label.sk-toggleable__label {background-color: #d4ebff;}#sk-container-id-2 div.sk-serial::before {content: \"\";position: absolute;border-left: 1px solid gray;box-sizing: border-box;top: 0;bottom: 0;left: 50%;z-index: 0;}#sk-container-id-2 div.sk-serial {display: flex;flex-direction: column;align-items: center;background-color: white;padding-right: 0.2em;padding-left: 0.2em;position: relative;}#sk-container-id-2 div.sk-item {position: relative;z-index: 1;}#sk-container-id-2 div.sk-parallel {display: flex;align-items: stretch;justify-content: center;background-color: white;position: relative;}#sk-container-id-2 div.sk-item::before, #sk-container-id-2 div.sk-parallel-item::before {content: \"\";position: absolute;border-left: 1px solid gray;box-sizing: border-box;top: 0;bottom: 0;left: 50%;z-index: -1;}#sk-container-id-2 div.sk-parallel-item {display: flex;flex-direction: column;z-index: 1;position: relative;background-color: white;}#sk-container-id-2 div.sk-parallel-item:first-child::after {align-self: flex-end;width: 50%;}#sk-container-id-2 div.sk-parallel-item:last-child::after {align-self: flex-start;width: 50%;}#sk-container-id-2 div.sk-parallel-item:only-child::after {width: 0;}#sk-container-id-2 div.sk-dashed-wrapped {border: 1px dashed gray;margin: 0 0.4em 0.5em 0.4em;box-sizing: border-box;padding-bottom: 0.4em;background-color: white;}#sk-container-id-2 div.sk-label label {font-family: monospace;font-weight: bold;display: inline-block;line-height: 1.2em;}#sk-container-id-2 div.sk-label-container {text-align: center;}#sk-container-id-2 div.sk-container {/* jupyter's `normalize.less` sets `[hidden] { display: none; }` but bootstrap.min.css set `[hidden] { display: none !important; }` so we also need the `!important` here to be able to override the default hidden behavior on the sphinx rendered scikit-learn.org. See: https://github.com/scikit-learn/scikit-learn/issues/21755 */display: inline-block !important;position: relative;}#sk-container-id-2 div.sk-text-repr-fallback {display: none;}</style><div id=\"sk-container-id-2\" class=\"sk-top-container\"><div class=\"sk-text-repr-fallback\"><pre>GridSearchCV(cv=3,\n",
              "             estimator=XGBRegressor(base_score=None, booster=None,\n",
              "                                    callbacks=None, colsample_bylevel=None,\n",
              "                                    colsample_bynode=None,\n",
              "                                    colsample_bytree=None,\n",
              "                                    early_stopping_rounds=None,\n",
              "                                    enable_categorical=False, eval_metric=None,\n",
              "                                    feature_types=None, gamma=None, gpu_id=None,\n",
              "                                    grow_policy=None, importance_type=None,\n",
              "                                    interaction_constraints=None,\n",
              "                                    learning_rate=None, max_bin=None,\n",
              "                                    max_cat_threshold=None,\n",
              "                                    max_cat_to_onehot=None, max_delta_step=None,\n",
              "                                    max_depth=None, max_leaves=None,\n",
              "                                    min_child_weight=None, missing=nan,\n",
              "                                    monotone_constraints=None, n_estimators=100,\n",
              "                                    n_jobs=None, num_parallel_tree=None,\n",
              "                                    predictor=None, random_state=None, ...),\n",
              "             param_grid={&#x27;eta&#x27;: [0.3, 0.5], &#x27;lambda&#x27;: [0.5, 1.0],\n",
              "                         &#x27;max_depth&#x27;: [3, 7]})</pre><b>In a Jupyter environment, please rerun this cell to show the HTML representation or trust the notebook. <br />On GitHub, the HTML representation is unable to render, please try loading this page with nbviewer.org.</b></div><div class=\"sk-container\" hidden><div class=\"sk-item sk-dashed-wrapped\"><div class=\"sk-label-container\"><div class=\"sk-label sk-toggleable\"><input class=\"sk-toggleable__control sk-hidden--visually\" id=\"sk-estimator-id-2\" type=\"checkbox\" ><label for=\"sk-estimator-id-2\" class=\"sk-toggleable__label sk-toggleable__label-arrow\">GridSearchCV</label><div class=\"sk-toggleable__content\"><pre>GridSearchCV(cv=3,\n",
              "             estimator=XGBRegressor(base_score=None, booster=None,\n",
              "                                    callbacks=None, colsample_bylevel=None,\n",
              "                                    colsample_bynode=None,\n",
              "                                    colsample_bytree=None,\n",
              "                                    early_stopping_rounds=None,\n",
              "                                    enable_categorical=False, eval_metric=None,\n",
              "                                    feature_types=None, gamma=None, gpu_id=None,\n",
              "                                    grow_policy=None, importance_type=None,\n",
              "                                    interaction_constraints=None,\n",
              "                                    learning_rate=None, max_bin=None,\n",
              "                                    max_cat_threshold=None,\n",
              "                                    max_cat_to_onehot=None, max_delta_step=None,\n",
              "                                    max_depth=None, max_leaves=None,\n",
              "                                    min_child_weight=None, missing=nan,\n",
              "                                    monotone_constraints=None, n_estimators=100,\n",
              "                                    n_jobs=None, num_parallel_tree=None,\n",
              "                                    predictor=None, random_state=None, ...),\n",
              "             param_grid={&#x27;eta&#x27;: [0.3, 0.5], &#x27;lambda&#x27;: [0.5, 1.0],\n",
              "                         &#x27;max_depth&#x27;: [3, 7]})</pre></div></div></div><div class=\"sk-parallel\"><div class=\"sk-parallel-item\"><div class=\"sk-item\"><div class=\"sk-label-container\"><div class=\"sk-label sk-toggleable\"><input class=\"sk-toggleable__control sk-hidden--visually\" id=\"sk-estimator-id-3\" type=\"checkbox\" ><label for=\"sk-estimator-id-3\" class=\"sk-toggleable__label sk-toggleable__label-arrow\">estimator: XGBRegressor</label><div class=\"sk-toggleable__content\"><pre>XGBRegressor(base_score=None, booster=None, callbacks=None,\n",
              "             colsample_bylevel=None, colsample_bynode=None,\n",
              "             colsample_bytree=None, early_stopping_rounds=None,\n",
              "             enable_categorical=False, eval_metric=None, feature_types=None,\n",
              "             gamma=None, gpu_id=None, grow_policy=None, importance_type=None,\n",
              "             interaction_constraints=None, learning_rate=None, max_bin=None,\n",
              "             max_cat_threshold=None, max_cat_to_onehot=None,\n",
              "             max_delta_step=None, max_depth=None, max_leaves=None,\n",
              "             min_child_weight=None, missing=nan, monotone_constraints=None,\n",
              "             n_estimators=100, n_jobs=None, num_parallel_tree=None,\n",
              "             predictor=None, random_state=None, ...)</pre></div></div></div><div class=\"sk-serial\"><div class=\"sk-item\"><div class=\"sk-estimator sk-toggleable\"><input class=\"sk-toggleable__control sk-hidden--visually\" id=\"sk-estimator-id-4\" type=\"checkbox\" ><label for=\"sk-estimator-id-4\" class=\"sk-toggleable__label sk-toggleable__label-arrow\">XGBRegressor</label><div class=\"sk-toggleable__content\"><pre>XGBRegressor(base_score=None, booster=None, callbacks=None,\n",
              "             colsample_bylevel=None, colsample_bynode=None,\n",
              "             colsample_bytree=None, early_stopping_rounds=None,\n",
              "             enable_categorical=False, eval_metric=None, feature_types=None,\n",
              "             gamma=None, gpu_id=None, grow_policy=None, importance_type=None,\n",
              "             interaction_constraints=None, learning_rate=None, max_bin=None,\n",
              "             max_cat_threshold=None, max_cat_to_onehot=None,\n",
              "             max_delta_step=None, max_depth=None, max_leaves=None,\n",
              "             min_child_weight=None, missing=nan, monotone_constraints=None,\n",
              "             n_estimators=100, n_jobs=None, num_parallel_tree=None,\n",
              "             predictor=None, random_state=None, ...)</pre></div></div></div></div></div></div></div></div></div></div>"
            ]
          },
          "metadata": {},
          "execution_count": 16
        }
      ]
    },
    {
      "cell_type": "code",
      "source": [
        "xgb_y_test_pred = xgb_opt.predict(X_test)\n",
        "\n",
        "\n",
        "xgb_y_test_umbralizada = 1 * (xgb_y_test_pred[:] > umbral)"
      ],
      "metadata": {
        "id": "SsBtJRz7St_H"
      },
      "execution_count": 17,
      "outputs": []
    },
    {
      "cell_type": "markdown",
      "source": [
        "Matriz de confusión"
      ],
      "metadata": {
        "id": "dsBRvvI2S4cw"
      }
    },
    {
      "cell_type": "code",
      "source": [
        "print(u\"Matriz de confusión\\n\", confusion_matrix(Y_test,xgb_y_test_umbralizada))"
      ],
      "metadata": {
        "id": "3GB87IvWS1Uu",
        "colab": {
          "base_uri": "https://localhost:8080/"
        },
        "outputId": "0f4d8f27-8934-400e-a23c-aa488504f15e"
      },
      "execution_count": 18,
      "outputs": [
        {
          "output_type": "stream",
          "name": "stdout",
          "text": [
            "Matriz de confusión\n",
            " [[ 107  151    0    0    0    0]\n",
            " [   7 3335    0    0    0    0]\n",
            " [   2 3432    0    0    0    0]\n",
            " [   2  305    0    0    0    0]\n",
            " [   0 2544    0    0    0    0]\n",
            " [   0  115    0    0    0    0]]\n"
          ]
        }
      ]
    },
    {
      "cell_type": "markdown",
      "source": [
        "MSE"
      ],
      "metadata": {
        "id": "2rBA0X9cTQ49"
      }
    },
    {
      "cell_type": "code",
      "source": [
        "print(F\"Error cuadrático medio: {mean_squared_error(Y_test, xgb_y_test_pred)}\")"
      ],
      "metadata": {
        "id": "14vTv9leTasM",
        "colab": {
          "base_uri": "https://localhost:8080/"
        },
        "outputId": "16038df7-5fc4-4397-aee7-96ad2f17f19a"
      },
      "execution_count": 19,
      "outputs": [
        {
          "output_type": "stream",
          "name": "stdout",
          "text": [
            "Error cuadrático medio: 0.13333860039710999\n"
          ]
        }
      ]
    },
    {
      "cell_type": "markdown",
      "source": [
        "R2"
      ],
      "metadata": {
        "id": "beKrL9sKTE_g"
      }
    },
    {
      "cell_type": "code",
      "source": [
        "xgb_train_pred = xgb_opt.predict(X_train)\n",
        "xgb_test_pred = xgb_opt.predict(X_test)\n",
        "print('La R^2 en los datos de train es: {}'.format(np.round(r2_score(Y_train, xgb_train_pred),4)))\n",
        "print('La R^2 en los datos de test es: {}'.format(np.round(r2_score(Y_test, xgb_test_pred),4)))"
      ],
      "metadata": {
        "id": "eQMgg4s7TFt2",
        "colab": {
          "base_uri": "https://localhost:8080/"
        },
        "outputId": "c604b951-8039-40a4-cf57-df02b7373d69"
      },
      "execution_count": 20,
      "outputs": [
        {
          "output_type": "stream",
          "name": "stdout",
          "text": [
            "La R^2 en los datos de train es: 0.9575\n",
            "La R^2 en los datos de test es: 0.9142\n"
          ]
        }
      ]
    },
    {
      "cell_type": "markdown",
      "source": [
        "# SVM kernel RBF"
      ],
      "metadata": {
        "id": "m_NRLj0jTxcJ"
      }
    },
    {
      "cell_type": "code",
      "source": [
        "from sklearn.svm import SVR"
      ],
      "metadata": {
        "id": "gOuMy-FCT2wl"
      },
      "execution_count": 21,
      "outputs": []
    },
    {
      "cell_type": "code",
      "source": [
        "svr_rbf = SVR(kernel='rbf', C=100, gamma=0.1, epsilon=.1)\n",
        "svr_rbf = SVR(verbose=True)\n",
        "\n",
        "svr_rbf.fit(X_train, Y_train)"
      ],
      "metadata": {
        "id": "9Mjf2LbST5o-",
        "colab": {
          "base_uri": "https://localhost:8080/",
          "height": 91
        },
        "outputId": "ef744d06-8c09-4d22-a057-f174135d0463"
      },
      "execution_count": 22,
      "outputs": [
        {
          "output_type": "stream",
          "name": "stdout",
          "text": [
            "[LibSVM]"
          ]
        },
        {
          "output_type": "execute_result",
          "data": {
            "text/plain": [
              "SVR(verbose=True)"
            ],
            "text/html": [
              "<style>#sk-container-id-3 {color: black;background-color: white;}#sk-container-id-3 pre{padding: 0;}#sk-container-id-3 div.sk-toggleable {background-color: white;}#sk-container-id-3 label.sk-toggleable__label {cursor: pointer;display: block;width: 100%;margin-bottom: 0;padding: 0.3em;box-sizing: border-box;text-align: center;}#sk-container-id-3 label.sk-toggleable__label-arrow:before {content: \"▸\";float: left;margin-right: 0.25em;color: #696969;}#sk-container-id-3 label.sk-toggleable__label-arrow:hover:before {color: black;}#sk-container-id-3 div.sk-estimator:hover label.sk-toggleable__label-arrow:before {color: black;}#sk-container-id-3 div.sk-toggleable__content {max-height: 0;max-width: 0;overflow: hidden;text-align: left;background-color: #f0f8ff;}#sk-container-id-3 div.sk-toggleable__content pre {margin: 0.2em;color: black;border-radius: 0.25em;background-color: #f0f8ff;}#sk-container-id-3 input.sk-toggleable__control:checked~div.sk-toggleable__content {max-height: 200px;max-width: 100%;overflow: auto;}#sk-container-id-3 input.sk-toggleable__control:checked~label.sk-toggleable__label-arrow:before {content: \"▾\";}#sk-container-id-3 div.sk-estimator input.sk-toggleable__control:checked~label.sk-toggleable__label {background-color: #d4ebff;}#sk-container-id-3 div.sk-label input.sk-toggleable__control:checked~label.sk-toggleable__label {background-color: #d4ebff;}#sk-container-id-3 input.sk-hidden--visually {border: 0;clip: rect(1px 1px 1px 1px);clip: rect(1px, 1px, 1px, 1px);height: 1px;margin: -1px;overflow: hidden;padding: 0;position: absolute;width: 1px;}#sk-container-id-3 div.sk-estimator {font-family: monospace;background-color: #f0f8ff;border: 1px dotted black;border-radius: 0.25em;box-sizing: border-box;margin-bottom: 0.5em;}#sk-container-id-3 div.sk-estimator:hover {background-color: #d4ebff;}#sk-container-id-3 div.sk-parallel-item::after {content: \"\";width: 100%;border-bottom: 1px solid gray;flex-grow: 1;}#sk-container-id-3 div.sk-label:hover label.sk-toggleable__label {background-color: #d4ebff;}#sk-container-id-3 div.sk-serial::before {content: \"\";position: absolute;border-left: 1px solid gray;box-sizing: border-box;top: 0;bottom: 0;left: 50%;z-index: 0;}#sk-container-id-3 div.sk-serial {display: flex;flex-direction: column;align-items: center;background-color: white;padding-right: 0.2em;padding-left: 0.2em;position: relative;}#sk-container-id-3 div.sk-item {position: relative;z-index: 1;}#sk-container-id-3 div.sk-parallel {display: flex;align-items: stretch;justify-content: center;background-color: white;position: relative;}#sk-container-id-3 div.sk-item::before, #sk-container-id-3 div.sk-parallel-item::before {content: \"\";position: absolute;border-left: 1px solid gray;box-sizing: border-box;top: 0;bottom: 0;left: 50%;z-index: -1;}#sk-container-id-3 div.sk-parallel-item {display: flex;flex-direction: column;z-index: 1;position: relative;background-color: white;}#sk-container-id-3 div.sk-parallel-item:first-child::after {align-self: flex-end;width: 50%;}#sk-container-id-3 div.sk-parallel-item:last-child::after {align-self: flex-start;width: 50%;}#sk-container-id-3 div.sk-parallel-item:only-child::after {width: 0;}#sk-container-id-3 div.sk-dashed-wrapped {border: 1px dashed gray;margin: 0 0.4em 0.5em 0.4em;box-sizing: border-box;padding-bottom: 0.4em;background-color: white;}#sk-container-id-3 div.sk-label label {font-family: monospace;font-weight: bold;display: inline-block;line-height: 1.2em;}#sk-container-id-3 div.sk-label-container {text-align: center;}#sk-container-id-3 div.sk-container {/* jupyter's `normalize.less` sets `[hidden] { display: none; }` but bootstrap.min.css set `[hidden] { display: none !important; }` so we also need the `!important` here to be able to override the default hidden behavior on the sphinx rendered scikit-learn.org. See: https://github.com/scikit-learn/scikit-learn/issues/21755 */display: inline-block !important;position: relative;}#sk-container-id-3 div.sk-text-repr-fallback {display: none;}</style><div id=\"sk-container-id-3\" class=\"sk-top-container\"><div class=\"sk-text-repr-fallback\"><pre>SVR(verbose=True)</pre><b>In a Jupyter environment, please rerun this cell to show the HTML representation or trust the notebook. <br />On GitHub, the HTML representation is unable to render, please try loading this page with nbviewer.org.</b></div><div class=\"sk-container\" hidden><div class=\"sk-item\"><div class=\"sk-estimator sk-toggleable\"><input class=\"sk-toggleable__control sk-hidden--visually\" id=\"sk-estimator-id-5\" type=\"checkbox\" checked><label for=\"sk-estimator-id-5\" class=\"sk-toggleable__label sk-toggleable__label-arrow\">SVR</label><div class=\"sk-toggleable__content\"><pre>SVR(verbose=True)</pre></div></div></div></div></div>"
            ]
          },
          "metadata": {},
          "execution_count": 22
        }
      ]
    },
    {
      "cell_type": "code",
      "source": [
        "svr_rbf_y_pred = svr_rbf.predict(X_test)\n",
        "svr_rbf_y_test_umbralizada = 1 * (svr_rbf_y_pred[:, ] > umbral)"
      ],
      "metadata": {
        "id": "qgLtoFDPT9a7"
      },
      "execution_count": 23,
      "outputs": []
    },
    {
      "cell_type": "markdown",
      "source": [
        "Matriz de confusión"
      ],
      "metadata": {
        "id": "DcQ5fyMbUYi7"
      }
    },
    {
      "cell_type": "code",
      "source": [
        "print(u\"Matriz de confusión\\n\", confusion_matrix(Y_test,svr_rbf_y_test_umbralizada))"
      ],
      "metadata": {
        "id": "fmZ-gjtkUaf3",
        "colab": {
          "base_uri": "https://localhost:8080/"
        },
        "outputId": "b2709ea0-0523-4329-aa50-8cebf9ecb63a"
      },
      "execution_count": 24,
      "outputs": [
        {
          "output_type": "stream",
          "name": "stdout",
          "text": [
            "Matriz de confusión\n",
            " [[   0  258    0    0    0    0]\n",
            " [   2 3340    0    0    0    0]\n",
            " [   2 3432    0    0    0    0]\n",
            " [   0  307    0    0    0    0]\n",
            " [   0 2544    0    0    0    0]\n",
            " [   0  115    0    0    0    0]]\n"
          ]
        }
      ]
    },
    {
      "cell_type": "markdown",
      "source": [
        "MSE"
      ],
      "metadata": {
        "id": "uhBDenQ1UtIB"
      }
    },
    {
      "cell_type": "code",
      "source": [
        "print(F\"Error cuadrático medio: {mean_squared_error(Y_test, svr_rbf_y_pred)}\")"
      ],
      "metadata": {
        "id": "TPGG6glsUt19",
        "colab": {
          "base_uri": "https://localhost:8080/"
        },
        "outputId": "4fa6891c-d1fa-41a5-a2e7-e173cc950cae"
      },
      "execution_count": 25,
      "outputs": [
        {
          "output_type": "stream",
          "name": "stdout",
          "text": [
            "Error cuadrático medio: 1.0759068777812515\n"
          ]
        }
      ]
    },
    {
      "cell_type": "markdown",
      "source": [
        "R2"
      ],
      "metadata": {
        "id": "dywOyWeWUgA9"
      }
    },
    {
      "cell_type": "code",
      "source": [
        "svr_rbf_train_pred = svr_rbf.predict(X_train)\n",
        "svr_rbf_test_pred = svr_rbf.predict(X_test)\n",
        "print('La R^2 en los datos de train es: {}'.format(np.round(r2_score(Y_train, svr_rbf_train_pred),4)))\n",
        "print('La R^2 en los datos de test es: {}'.format(np.round(r2_score(Y_test, svr_rbf_test_pred),4)))"
      ],
      "metadata": {
        "id": "qXkSDo-ZUg3v",
        "colab": {
          "base_uri": "https://localhost:8080/"
        },
        "outputId": "15f71949-d7dd-4983-e6f8-85bb6eb527f6"
      },
      "execution_count": 26,
      "outputs": [
        {
          "output_type": "stream",
          "name": "stdout",
          "text": [
            "La R^2 en los datos de train es: 0.3233\n",
            "La R^2 en los datos de test es: 0.3076\n"
          ]
        }
      ]
    },
    {
      "cell_type": "markdown",
      "source": [
        "# SVM kernel Linear"
      ],
      "metadata": {
        "id": "6a6oOs4QU0I-"
      }
    },
    {
      "cell_type": "code",
      "source": [
        "svr_lin = SVR(kernel='linear', C=100, gamma='auto')\n",
        "svr_lin.fit(X_train, Y_train)"
      ],
      "metadata": {
        "id": "xka5dJRLU4B6",
        "colab": {
          "base_uri": "https://localhost:8080/",
          "height": 74
        },
        "outputId": "bf8c2f90-f616-4b0c-f860-cb7c6a677d4e"
      },
      "execution_count": 27,
      "outputs": [
        {
          "output_type": "execute_result",
          "data": {
            "text/plain": [
              "SVR(C=100, gamma='auto', kernel='linear')"
            ],
            "text/html": [
              "<style>#sk-container-id-4 {color: black;background-color: white;}#sk-container-id-4 pre{padding: 0;}#sk-container-id-4 div.sk-toggleable {background-color: white;}#sk-container-id-4 label.sk-toggleable__label {cursor: pointer;display: block;width: 100%;margin-bottom: 0;padding: 0.3em;box-sizing: border-box;text-align: center;}#sk-container-id-4 label.sk-toggleable__label-arrow:before {content: \"▸\";float: left;margin-right: 0.25em;color: #696969;}#sk-container-id-4 label.sk-toggleable__label-arrow:hover:before {color: black;}#sk-container-id-4 div.sk-estimator:hover label.sk-toggleable__label-arrow:before {color: black;}#sk-container-id-4 div.sk-toggleable__content {max-height: 0;max-width: 0;overflow: hidden;text-align: left;background-color: #f0f8ff;}#sk-container-id-4 div.sk-toggleable__content pre {margin: 0.2em;color: black;border-radius: 0.25em;background-color: #f0f8ff;}#sk-container-id-4 input.sk-toggleable__control:checked~div.sk-toggleable__content {max-height: 200px;max-width: 100%;overflow: auto;}#sk-container-id-4 input.sk-toggleable__control:checked~label.sk-toggleable__label-arrow:before {content: \"▾\";}#sk-container-id-4 div.sk-estimator input.sk-toggleable__control:checked~label.sk-toggleable__label {background-color: #d4ebff;}#sk-container-id-4 div.sk-label input.sk-toggleable__control:checked~label.sk-toggleable__label {background-color: #d4ebff;}#sk-container-id-4 input.sk-hidden--visually {border: 0;clip: rect(1px 1px 1px 1px);clip: rect(1px, 1px, 1px, 1px);height: 1px;margin: -1px;overflow: hidden;padding: 0;position: absolute;width: 1px;}#sk-container-id-4 div.sk-estimator {font-family: monospace;background-color: #f0f8ff;border: 1px dotted black;border-radius: 0.25em;box-sizing: border-box;margin-bottom: 0.5em;}#sk-container-id-4 div.sk-estimator:hover {background-color: #d4ebff;}#sk-container-id-4 div.sk-parallel-item::after {content: \"\";width: 100%;border-bottom: 1px solid gray;flex-grow: 1;}#sk-container-id-4 div.sk-label:hover label.sk-toggleable__label {background-color: #d4ebff;}#sk-container-id-4 div.sk-serial::before {content: \"\";position: absolute;border-left: 1px solid gray;box-sizing: border-box;top: 0;bottom: 0;left: 50%;z-index: 0;}#sk-container-id-4 div.sk-serial {display: flex;flex-direction: column;align-items: center;background-color: white;padding-right: 0.2em;padding-left: 0.2em;position: relative;}#sk-container-id-4 div.sk-item {position: relative;z-index: 1;}#sk-container-id-4 div.sk-parallel {display: flex;align-items: stretch;justify-content: center;background-color: white;position: relative;}#sk-container-id-4 div.sk-item::before, #sk-container-id-4 div.sk-parallel-item::before {content: \"\";position: absolute;border-left: 1px solid gray;box-sizing: border-box;top: 0;bottom: 0;left: 50%;z-index: -1;}#sk-container-id-4 div.sk-parallel-item {display: flex;flex-direction: column;z-index: 1;position: relative;background-color: white;}#sk-container-id-4 div.sk-parallel-item:first-child::after {align-self: flex-end;width: 50%;}#sk-container-id-4 div.sk-parallel-item:last-child::after {align-self: flex-start;width: 50%;}#sk-container-id-4 div.sk-parallel-item:only-child::after {width: 0;}#sk-container-id-4 div.sk-dashed-wrapped {border: 1px dashed gray;margin: 0 0.4em 0.5em 0.4em;box-sizing: border-box;padding-bottom: 0.4em;background-color: white;}#sk-container-id-4 div.sk-label label {font-family: monospace;font-weight: bold;display: inline-block;line-height: 1.2em;}#sk-container-id-4 div.sk-label-container {text-align: center;}#sk-container-id-4 div.sk-container {/* jupyter's `normalize.less` sets `[hidden] { display: none; }` but bootstrap.min.css set `[hidden] { display: none !important; }` so we also need the `!important` here to be able to override the default hidden behavior on the sphinx rendered scikit-learn.org. See: https://github.com/scikit-learn/scikit-learn/issues/21755 */display: inline-block !important;position: relative;}#sk-container-id-4 div.sk-text-repr-fallback {display: none;}</style><div id=\"sk-container-id-4\" class=\"sk-top-container\"><div class=\"sk-text-repr-fallback\"><pre>SVR(C=100, gamma=&#x27;auto&#x27;, kernel=&#x27;linear&#x27;)</pre><b>In a Jupyter environment, please rerun this cell to show the HTML representation or trust the notebook. <br />On GitHub, the HTML representation is unable to render, please try loading this page with nbviewer.org.</b></div><div class=\"sk-container\" hidden><div class=\"sk-item\"><div class=\"sk-estimator sk-toggleable\"><input class=\"sk-toggleable__control sk-hidden--visually\" id=\"sk-estimator-id-6\" type=\"checkbox\" checked><label for=\"sk-estimator-id-6\" class=\"sk-toggleable__label sk-toggleable__label-arrow\">SVR</label><div class=\"sk-toggleable__content\"><pre>SVR(C=100, gamma=&#x27;auto&#x27;, kernel=&#x27;linear&#x27;)</pre></div></div></div></div></div>"
            ]
          },
          "metadata": {},
          "execution_count": 27
        }
      ]
    },
    {
      "cell_type": "code",
      "source": [
        "svr_lin_y_pred = svr_lin.predict(X_test)\n",
        "svr_lin_y_test_umbralizada = 1 * (svr_lin_y_pred[:, ] > umbral)"
      ],
      "metadata": {
        "id": "r8Ime0e3VHmr"
      },
      "execution_count": 28,
      "outputs": []
    },
    {
      "cell_type": "markdown",
      "source": [
        "Matriz de confusión"
      ],
      "metadata": {
        "id": "X9aVuEK8VMha"
      }
    },
    {
      "cell_type": "code",
      "source": [
        "print(u\"Matriz de confusión\\n\", confusion_matrix(Y_test,svr_lin_y_test_umbralizada))"
      ],
      "metadata": {
        "id": "iAAW4ZqTVOs2",
        "colab": {
          "base_uri": "https://localhost:8080/"
        },
        "outputId": "3fee85b8-0e8f-4b09-8a2e-e958e1abde5d"
      },
      "execution_count": 29,
      "outputs": [
        {
          "output_type": "stream",
          "name": "stdout",
          "text": [
            "Matriz de confusión\n",
            " [[   0  258    0    0    0    0]\n",
            " [   7 3335    0    0    0    0]\n",
            " [   0 3434    0    0    0    0]\n",
            " [   0  307    0    0    0    0]\n",
            " [   0 2544    0    0    0    0]\n",
            " [   0  115    0    0    0    0]]\n"
          ]
        }
      ]
    },
    {
      "cell_type": "markdown",
      "source": [
        "MSE"
      ],
      "metadata": {
        "id": "4Sm3pf9IVg5B"
      }
    },
    {
      "cell_type": "code",
      "source": [
        "print(F\"Error cuadrático medio: {mean_squared_error(Y_test, svr_lin_y_pred)}\")"
      ],
      "metadata": {
        "id": "h3F6ELxVVhdP",
        "colab": {
          "base_uri": "https://localhost:8080/"
        },
        "outputId": "05df7fec-4f95-4093-9db9-703af0af01ef"
      },
      "execution_count": 30,
      "outputs": [
        {
          "output_type": "stream",
          "name": "stdout",
          "text": [
            "Error cuadrático medio: 1.4981725479588333\n"
          ]
        }
      ]
    },
    {
      "cell_type": "markdown",
      "source": [
        "R2"
      ],
      "metadata": {
        "id": "81x9mIQ5VWID"
      }
    },
    {
      "cell_type": "code",
      "source": [
        "svr_lin_train_pred = svr_lin.predict(X_train)\n",
        "svr_lin_test_pred = svr_lin.predict(X_test)\n",
        "print('La R^2 en los datos de train es: {}'.format(np.round(r2_score(Y_train, svr_lin_train_pred),4)))\n",
        "print('La R^2 en los datos de test es: {}'.format(np.round(r2_score(Y_test, svr_lin_test_pred),4)))"
      ],
      "metadata": {
        "id": "o5-lmKI6VWq3",
        "colab": {
          "base_uri": "https://localhost:8080/"
        },
        "outputId": "ce995a06-3986-4f5b-9cd7-3e4078b7a9e6"
      },
      "execution_count": 31,
      "outputs": [
        {
          "output_type": "stream",
          "name": "stdout",
          "text": [
            "La R^2 en los datos de train es: 0.038\n",
            "La R^2 en los datos de test es: 0.0358\n"
          ]
        }
      ]
    },
    {
      "cell_type": "markdown",
      "source": [
        "![svr_lin.PNG](data:image/png;base64,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)"
      ],
      "metadata": {
        "id": "aXXdClpBBgL_"
      }
    },
    {
      "cell_type": "markdown",
      "source": [
        "# SVM kernel Polinómico"
      ],
      "metadata": {
        "id": "_6DaJ7r7VknW"
      }
    },
    {
      "cell_type": "code",
      "source": [
        "svr_poly = SVR(kernel='poly', C=100, gamma='auto', degree=3, epsilon=.1, coef0=1)\n",
        "svr_poly = SVR(kernel='poly', C=100, gamma='auto', degree=3, epsilon=.1,\n",
        "               coef0=1, verbose = True)\n",
        "\n",
        "svr_poly.fit(X_train, Y_train)"
      ],
      "metadata": {
        "id": "nGir5RY1VnxD",
        "colab": {
          "base_uri": "https://localhost:8080/",
          "height": 91
        },
        "outputId": "2a302522-ff90-4bde-eaed-ddd60333ac21"
      },
      "execution_count": 32,
      "outputs": [
        {
          "output_type": "stream",
          "name": "stdout",
          "text": [
            "[LibSVM]"
          ]
        },
        {
          "output_type": "execute_result",
          "data": {
            "text/plain": [
              "SVR(C=100, coef0=1, gamma='auto', kernel='poly', verbose=True)"
            ],
            "text/html": [
              "<style>#sk-container-id-5 {color: black;background-color: white;}#sk-container-id-5 pre{padding: 0;}#sk-container-id-5 div.sk-toggleable {background-color: white;}#sk-container-id-5 label.sk-toggleable__label {cursor: pointer;display: block;width: 100%;margin-bottom: 0;padding: 0.3em;box-sizing: border-box;text-align: center;}#sk-container-id-5 label.sk-toggleable__label-arrow:before {content: \"▸\";float: left;margin-right: 0.25em;color: #696969;}#sk-container-id-5 label.sk-toggleable__label-arrow:hover:before {color: black;}#sk-container-id-5 div.sk-estimator:hover label.sk-toggleable__label-arrow:before {color: black;}#sk-container-id-5 div.sk-toggleable__content {max-height: 0;max-width: 0;overflow: hidden;text-align: left;background-color: #f0f8ff;}#sk-container-id-5 div.sk-toggleable__content pre {margin: 0.2em;color: black;border-radius: 0.25em;background-color: #f0f8ff;}#sk-container-id-5 input.sk-toggleable__control:checked~div.sk-toggleable__content {max-height: 200px;max-width: 100%;overflow: auto;}#sk-container-id-5 input.sk-toggleable__control:checked~label.sk-toggleable__label-arrow:before {content: \"▾\";}#sk-container-id-5 div.sk-estimator input.sk-toggleable__control:checked~label.sk-toggleable__label {background-color: #d4ebff;}#sk-container-id-5 div.sk-label input.sk-toggleable__control:checked~label.sk-toggleable__label {background-color: #d4ebff;}#sk-container-id-5 input.sk-hidden--visually {border: 0;clip: rect(1px 1px 1px 1px);clip: rect(1px, 1px, 1px, 1px);height: 1px;margin: -1px;overflow: hidden;padding: 0;position: absolute;width: 1px;}#sk-container-id-5 div.sk-estimator {font-family: monospace;background-color: #f0f8ff;border: 1px dotted black;border-radius: 0.25em;box-sizing: border-box;margin-bottom: 0.5em;}#sk-container-id-5 div.sk-estimator:hover {background-color: #d4ebff;}#sk-container-id-5 div.sk-parallel-item::after {content: \"\";width: 100%;border-bottom: 1px solid gray;flex-grow: 1;}#sk-container-id-5 div.sk-label:hover label.sk-toggleable__label {background-color: #d4ebff;}#sk-container-id-5 div.sk-serial::before {content: \"\";position: absolute;border-left: 1px solid gray;box-sizing: border-box;top: 0;bottom: 0;left: 50%;z-index: 0;}#sk-container-id-5 div.sk-serial {display: flex;flex-direction: column;align-items: center;background-color: white;padding-right: 0.2em;padding-left: 0.2em;position: relative;}#sk-container-id-5 div.sk-item {position: relative;z-index: 1;}#sk-container-id-5 div.sk-parallel {display: flex;align-items: stretch;justify-content: center;background-color: white;position: relative;}#sk-container-id-5 div.sk-item::before, #sk-container-id-5 div.sk-parallel-item::before {content: \"\";position: absolute;border-left: 1px solid gray;box-sizing: border-box;top: 0;bottom: 0;left: 50%;z-index: -1;}#sk-container-id-5 div.sk-parallel-item {display: flex;flex-direction: column;z-index: 1;position: relative;background-color: white;}#sk-container-id-5 div.sk-parallel-item:first-child::after {align-self: flex-end;width: 50%;}#sk-container-id-5 div.sk-parallel-item:last-child::after {align-self: flex-start;width: 50%;}#sk-container-id-5 div.sk-parallel-item:only-child::after {width: 0;}#sk-container-id-5 div.sk-dashed-wrapped {border: 1px dashed gray;margin: 0 0.4em 0.5em 0.4em;box-sizing: border-box;padding-bottom: 0.4em;background-color: white;}#sk-container-id-5 div.sk-label label {font-family: monospace;font-weight: bold;display: inline-block;line-height: 1.2em;}#sk-container-id-5 div.sk-label-container {text-align: center;}#sk-container-id-5 div.sk-container {/* jupyter's `normalize.less` sets `[hidden] { display: none; }` but bootstrap.min.css set `[hidden] { display: none !important; }` so we also need the `!important` here to be able to override the default hidden behavior on the sphinx rendered scikit-learn.org. See: https://github.com/scikit-learn/scikit-learn/issues/21755 */display: inline-block !important;position: relative;}#sk-container-id-5 div.sk-text-repr-fallback {display: none;}</style><div id=\"sk-container-id-5\" class=\"sk-top-container\"><div class=\"sk-text-repr-fallback\"><pre>SVR(C=100, coef0=1, gamma=&#x27;auto&#x27;, kernel=&#x27;poly&#x27;, verbose=True)</pre><b>In a Jupyter environment, please rerun this cell to show the HTML representation or trust the notebook. <br />On GitHub, the HTML representation is unable to render, please try loading this page with nbviewer.org.</b></div><div class=\"sk-container\" hidden><div class=\"sk-item\"><div class=\"sk-estimator sk-toggleable\"><input class=\"sk-toggleable__control sk-hidden--visually\" id=\"sk-estimator-id-7\" type=\"checkbox\" checked><label for=\"sk-estimator-id-7\" class=\"sk-toggleable__label sk-toggleable__label-arrow\">SVR</label><div class=\"sk-toggleable__content\"><pre>SVR(C=100, coef0=1, gamma=&#x27;auto&#x27;, kernel=&#x27;poly&#x27;, verbose=True)</pre></div></div></div></div></div>"
            ]
          },
          "metadata": {},
          "execution_count": 32
        }
      ]
    },
    {
      "cell_type": "code",
      "source": [
        "svr_poly_y_pred = svr_poly.predict(X_test)\n",
        "svr_poly_y_test_umbralizada = 1 * (svr_poly_y_pred[:, ] > umbral)"
      ],
      "metadata": {
        "id": "mu6rE2YoV42j"
      },
      "execution_count": 33,
      "outputs": []
    },
    {
      "cell_type": "markdown",
      "source": [
        "Matriz de confusión"
      ],
      "metadata": {
        "id": "aJc9HwdMWBlk"
      }
    },
    {
      "cell_type": "code",
      "source": [
        "print(u\"Matriz de confusión\\n\", confusion_matrix(Y_test,svr_poly_y_test_umbralizada))"
      ],
      "metadata": {
        "id": "2ffoq_9pWCsb",
        "colab": {
          "base_uri": "https://localhost:8080/"
        },
        "outputId": "cf51b0ef-cd89-4b80-8ecc-878c810c9048"
      },
      "execution_count": 34,
      "outputs": [
        {
          "output_type": "stream",
          "name": "stdout",
          "text": [
            "Matriz de confusión\n",
            " [[   0  258    0    0    0    0]\n",
            " [  17 3325    0    0    0    0]\n",
            " [   3 3431    0    0    0    0]\n",
            " [   0  307    0    0    0    0]\n",
            " [   3 2541    0    0    0    0]\n",
            " [   0  115    0    0    0    0]]\n"
          ]
        }
      ]
    },
    {
      "cell_type": "markdown",
      "source": [
        "MSE"
      ],
      "metadata": {
        "id": "Gta5TOAdWQ_W"
      }
    },
    {
      "cell_type": "code",
      "source": [
        "print(F\"Error cuadrático medio: {mean_squared_error(Y_test, svr_poly_y_pred)}\")"
      ],
      "metadata": {
        "id": "663MSsgPXL_F",
        "colab": {
          "base_uri": "https://localhost:8080/"
        },
        "outputId": "3c08c0eb-f104-4172-c391-ef3076f0c185"
      },
      "execution_count": 35,
      "outputs": [
        {
          "output_type": "stream",
          "name": "stdout",
          "text": [
            "Error cuadrático medio: 1.2765975753587075\n"
          ]
        }
      ]
    },
    {
      "cell_type": "markdown",
      "source": [
        "R2"
      ],
      "metadata": {
        "id": "9f5t4fw7WHMK"
      }
    },
    {
      "cell_type": "code",
      "source": [
        "svr_poly_train_pred = svr_poly.predict(X_train)\n",
        "svr_poly_test_pred = svr_poly.predict(X_test)\n",
        "print('La R^2 en los datos de train es: {}'.format(np.round(r2_score(Y_train, svr_poly_train_pred),4)))\n",
        "print('La R^2 en los datos de test es: {}'.format(np.round(r2_score(Y_test, svr_poly_test_pred),4)))"
      ],
      "metadata": {
        "id": "hdBZXTgxWIAV",
        "colab": {
          "base_uri": "https://localhost:8080/"
        },
        "outputId": "63286b4e-0bd4-4935-f3d3-2ec1d09f1255"
      },
      "execution_count": 36,
      "outputs": [
        {
          "output_type": "stream",
          "name": "stdout",
          "text": [
            "La R^2 en los datos de train es: 0.1709\n",
            "La R^2 en los datos de test es: 0.1784\n"
          ]
        }
      ]
    },
    {
      "cell_type": "markdown",
      "source": [
        "![image.png](data:image/png;base64,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)"
      ],
      "metadata": {
        "id": "sW_Nikn4COB9"
      }
    },
    {
      "cell_type": "markdown",
      "source": [
        "# CONCLUSIONES"
      ],
      "metadata": {
        "id": "78RgbFUJoz3P"
      }
    },
    {
      "cell_type": "markdown",
      "source": [
        "Para mí las conclusiones son obvias, el algoritmo con mejor resultado es el de bosques aleatorios ya que ha tenido el mejor resultado en las 3 métricas, seguido de cerca por xgboost.\n",
        "\n",
        "Los modelos SVM no sólo han tenido predicciones mucho peores, sino que en este caso de regresión han tenido también un coste infinitamente mayor (menos de un segundo de procesamiento en RF comparado con casi 4 horas de SVM polinómico)."
      ],
      "metadata": {
        "id": "adgee9_mo7SF"
      }
    }
  ]
}